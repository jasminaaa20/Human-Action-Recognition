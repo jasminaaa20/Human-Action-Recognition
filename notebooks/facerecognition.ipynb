{
 "cells": [
  {
   "cell_type": "code",
   "execution_count": 1,
   "metadata": {},
   "outputs": [],
   "source": [
    "import cv2\n",
    "import face_recognition as fr\n",
    "import os\n",
    "import pickle\n",
    "import numpy as np\n",
    "import time\n",
    "from multiprocessing import Pool\n"
   ]
  },
  {
   "cell_type": "markdown",
   "metadata": {},
   "source": [
    "## Create Model"
   ]
  },
  {
   "cell_type": "code",
   "execution_count": 3,
   "metadata": {},
   "outputs": [],
   "source": [
    "folder = 'Images'\n",
    "imageNameList = os.listdir(folder)\n",
    "\n",
    "names = []\n",
    "imgList = []\n",
    "\n",
    "for path in imageNameList:\n",
    "    imgList.append(cv2.imread(os.path.join(folder, path)))\n",
    "    names.append(os.path.splitext(path)[0])\n",
    "    "
   ]
  },
  {
   "cell_type": "code",
   "execution_count": 4,
   "metadata": {},
   "outputs": [],
   "source": [
    "def findEncodings(imgList):\n",
    "    encodeList = []\n",
    "    for img in imgList:\n",
    "        print(img.shape)\n",
    "        img = cv2.cvtColor(img, cv2.COLOR_BGR2RGB)\n",
    "        print(img.shape)\n",
    "        encodeimg = fr.face_encodings(img)[0]\n",
    "        encodeList.append(encodeimg)\n",
    "    return encodeList\n"
   ]
  },
  {
   "cell_type": "code",
   "execution_count": 5,
   "metadata": {},
   "outputs": [
    {
     "name": "stdout",
     "output_type": "stream",
     "text": [
      "(225, 225, 3)\n",
      "(225, 225, 3)\n",
      "(267, 189, 3)\n",
      "(267, 189, 3)\n",
      "(259, 194, 3)\n",
      "(259, 194, 3)\n",
      "(450, 333, 3)\n",
      "(450, 333, 3)\n",
      "(225, 225, 3)\n",
      "(225, 225, 3)\n"
     ]
    }
   ],
   "source": [
    "encodedListKnown = findEncodings(imgList)\n",
    "encodedListKnownWithNames = [names, encodedListKnown]"
   ]
  },
  {
   "cell_type": "markdown",
   "metadata": {},
   "source": [
    "Save Encodings"
   ]
  },
  {
   "cell_type": "code",
   "execution_count": 6,
   "metadata": {},
   "outputs": [],
   "source": [
    "file = open('face_Encodings.p', 'wb')\n",
    "pickle.dump(encodedListKnownWithNames, file)\n",
    "file.close()"
   ]
  },
  {
   "cell_type": "markdown",
   "metadata": {},
   "source": [
    "## Inferencing"
   ]
  },
  {
   "cell_type": "code",
   "execution_count": 7,
   "metadata": {},
   "outputs": [],
   "source": [
    "file = open('face_Encodings.p', 'rb')\n",
    "encodedListKnownWithNames = pickle.load(file)\n",
    "file.close()\n",
    "known_face_names, known_face_encodings = encodedListKnownWithNames"
   ]
  },
  {
   "cell_type": "code",
   "execution_count": 7,
   "metadata": {},
   "outputs": [],
   "source": [
    "def process_frame(encoFace):\n",
    "    print(encoFace.shape)\n",
    "    print(encoFace.shape, faceloc)\n",
    "    matches = fr.compare_faces(known_face_encodings, encoFace)\n",
    "    faceDis = fr.face_distance(known_face_encodings, encoFace)\n",
    "    matchIndex = np.argmin(faceDis)\n",
    "\n",
    "    if matches[matchIndex]:\n",
    "        recognized_name = known_face_names[matchIndex]\n",
    "        print(recognized_name)\n",
    "        # y1, x2, y2, x1 = faceloc\n",
    "        # y1, x2, y2, x1 = y1 * 2, x2 * 2, y2 * 2, x1 * 2\n",
    "        # boundingBox = cv2.rectangle(frame, (x1, y1), (x2, y2), (0, 255, 0), 2)\n",
    "        # cv2.putText(frame, recognized_name, (x1, y1 - 10), cv2.FONT_HERSHEY_SIMPLEX, 0.9, (0, 255, 0), 2)\n",
    "    else:\n",
    "        print('Unknown')"
   ]
  },
  {
   "cell_type": "code",
   "execution_count": 8,
   "metadata": {},
   "outputs": [],
   "source": [
    "def process_frame(encoFace):\n",
    "    matches = fr.compare_faces(known_face_encodings, encoFace)\n",
    "    faceDis = fr.face_distance(known_face_encodings, encoFace)\n",
    "    matchIndex = np.argmin(faceDis)\n",
    "\n",
    "    if matches[matchIndex]:\n",
    "        recognized_name = known_face_names[matchIndex]\n",
    "        print(recognized_name)\n",
    "    else:\n",
    "        print('Unknown')"
   ]
  },
  {
   "cell_type": "code",
   "execution_count": 8,
   "metadata": {},
   "outputs": [],
   "source": [
    "cap = cv2.VideoCapture(0)\n",
    "counter = 0\n",
    "end_time = time.time()\n",
    "fps = 0\n",
    "\n",
    "while True:\n",
    "    success, frame = cap.read()\n",
    "\n",
    "    if not success:\n",
    "        break\n",
    "\n",
    "    if counter % 10 == 0:\n",
    "        img = cv2.resize(frame, (0, 0), None, 0.5, 0.5)\n",
    "        img = cv2.cvtColor(img, cv2.COLOR_BGR2RGB)  # Convert BGR to RGB\n",
    "\n",
    "        facesCurFrame = fr.face_locations(img)\n",
    "\n",
    "        encodeCurFrame = fr.face_encodings(img, facesCurFrame)\n",
    "\n",
    "\n",
    "    # Your code to calculate and display FPS here\n",
    "    counter += 1\n",
    "    if counter % 10 == 0:\n",
    "        fps = 10 / (time.time() - end_time)  # Calculate FPS over the last 10 frames\n",
    "        end_time = time.time()\n",
    "\n",
    "        # Display the frame rate\n",
    "        cv2.putText(frame, f'FPS: {round(fps, 2)}', (10, 30), cv2.FONT_HERSHEY_SIMPLEX, 1, (0, 0, 255), 2)\n",
    "    cv2.imshow(\"Face Recognition\", frame)\n",
    "\n",
    "    if cv2.waitKey(1) & 0xFF == ord('q'):\n",
    "        break\n",
    "\n",
    "cap.release()\n",
    "cv2.destroyAllWindows()"
   ]
  },
  {
   "cell_type": "code",
   "execution_count": 13,
   "metadata": {},
   "outputs": [],
   "source": [
    "from collections import defaultdict\n",
    "\n",
    "main_folder = os.path.join(\"../web_interface/API/static\\\\faces\\\\\", \"2023_10_31__22_36_37\")\n",
    "identified = defaultdict(list)\n",
    "identified[\"base_folder\"] = main_folder\n",
    "\n",
    "for name in os.listdir(main_folder):\n",
    "    folder_path = os.path.join(main_folder, name)\n",
    "    files = os.listdir(folder_path)\n",
    "    sorted_files = sorted(files)\n",
    "    first_5_files = sorted_files[:5]\n",
    "    identified[name] = first_5_files\n",
    "\n",
    "\n"
   ]
  }
 ],
 "metadata": {
  "kernelspec": {
   "display_name": ".venv",
   "language": "python",
   "name": "python3"
  },
  "language_info": {
   "codemirror_mode": {
    "name": "ipython",
    "version": 3
   },
   "file_extension": ".py",
   "mimetype": "text/x-python",
   "name": "python",
   "nbconvert_exporter": "python",
   "pygments_lexer": "ipython3",
   "version": "3.11.0"
  }
 },
 "nbformat": 4,
 "nbformat_minor": 2
}
